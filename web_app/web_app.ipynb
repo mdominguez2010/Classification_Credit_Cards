{
 "cells": [
  {
   "cell_type": "code",
   "execution_count": 1,
   "metadata": {
    "ExecuteTime": {
     "end_time": "2020-10-26T20:52:04.779362Z",
     "start_time": "2020-10-26T20:52:02.310314Z"
    }
   },
   "outputs": [],
   "source": [
    "import pandas as pd\n",
    "import numpy as np\n",
    "import psycopg2 as pg\n",
    "import pickle\n",
    "\n",
    "import matplotlib.pyplot as plt\n",
    "import seaborn as sns\n",
    "sns.set(style='white', palette = 'Paired')\n",
    "#plt.style.use('ggplot')\n",
    "%matplotlib inline\n",
    "%config InlineBackend.figure_formats = ['svg']\n",
    "np.set_printoptions(suppress=True) # Suppress scientific notation where possible\n",
    "from ipywidgets import interactive, FloatSlider\n",
    "\n",
    "from sklearn.inspection import permutation_importance\n",
    "from sklearn import linear_model, svm, naive_bayes, neighbors, ensemble\n",
    "from sklearn.model_selection import KFold, train_test_split, GridSearchCV, RandomizedSearchCV\n",
    "from sklearn.neighbors import KNeighborsClassifier\n",
    "from sklearn import metrics\n",
    "from sklearn.preprocessing import StandardScaler, OneHotEncoder\n",
    "from sklearn.linear_model import LogisticRegression\n",
    "from sklearn.ensemble import RandomForestClassifier\n",
    "from sklearn.svm import SVC, LinearSVC\n",
    "from sklearn.metrics import classification_report, plot_confusion_matrix, confusion_matrix,\\\n",
    "roc_auc_score, roc_curve, precision_recall_curve, f1_score, fbeta_score, recall_score,\\\n",
    "precision_recall_fscore_support\n",
    "\n",
    "from sklearn.tree import DecisionTreeClassifier, DecisionTreeRegressor\n",
    "from sklearn.ensemble import (RandomForestClassifier, ExtraTreesClassifier, VotingClassifier, \n",
    "                              AdaBoostClassifier, BaggingRegressor)\n",
    "from sklearn.metrics import accuracy_score, make_scorer, log_loss\n",
    "\n",
    "from imblearn.under_sampling import RandomUnderSampler\n",
    "from imblearn.over_sampling import RandomOverSampler\n",
    "from collections import Counter\n",
    "from mlxtend.plotting import plot_decision_regions\n",
    "\n",
    "import xgboost as xgb\n",
    "\n",
    "import streamlit as st"
   ]
  },
  {
   "cell_type": "markdown",
   "metadata": {},
   "source": [
    "## Revised Model"
   ]
  },
  {
   "cell_type": "code",
   "execution_count": 2,
   "metadata": {
    "ExecuteTime": {
     "end_time": "2020-10-26T20:52:47.073187Z",
     "start_time": "2020-10-26T20:52:47.060510Z"
    }
   },
   "outputs": [],
   "source": [
    "# Read Pickled model\n",
    "\n",
    "with open('rf_rev.pickle','rb') as read_file:\n",
    "    rf_rev = pickle.load(read_file)"
   ]
  },
  {
   "cell_type": "code",
   "execution_count": 3,
   "metadata": {
    "ExecuteTime": {
     "end_time": "2020-10-26T20:52:47.658221Z",
     "start_time": "2020-10-26T20:52:47.655228Z"
    }
   },
   "outputs": [],
   "source": [
    "# Read scaler\n",
    "\n",
    "with open('scaler.pickle','rb') as read_file:\n",
    "    scaler = pickle.load(read_file)"
   ]
  },
  {
   "cell_type": "code",
   "execution_count": 4,
   "metadata": {
    "ExecuteTime": {
     "end_time": "2020-10-26T20:52:48.572165Z",
     "start_time": "2020-10-26T20:52:48.568268Z"
    }
   },
   "outputs": [],
   "source": [
    "# Set user inputs web app prediction model, default will be the column average or mode\n",
    "\n",
    "#credit_limit = st.number_input('Credit Limit', value = 0)\n",
    "\n",
    "sep_hist = st.number_input('September History', value = 0)\n",
    "aug_hist = st.number_input('August History', value = 0)\n",
    "jul_hist = st.number_input('July History', value = 0)\n",
    "jun_hist = st.number_input('June History', value = 0)\n",
    "#may_hist = st.number_input('May History', value = 0)\n",
    "#apr_hist = st.number_input('April History', value = 0)"
   ]
  },
  {
   "cell_type": "code",
   "execution_count": 5,
   "metadata": {
    "ExecuteTime": {
     "end_time": "2020-10-26T20:52:51.777305Z",
     "start_time": "2020-10-26T20:52:51.773543Z"
    }
   },
   "outputs": [],
   "source": [
    "input_data = pd.DataFrame({'September History':[sep_hist],'August History':[aug_hist],\n",
    "                           'July History':[jul_hist], 'Jun_Hist':jun_hist})"
   ]
  },
  {
   "cell_type": "code",
   "execution_count": 6,
   "metadata": {
    "ExecuteTime": {
     "end_time": "2020-10-26T20:52:52.775178Z",
     "start_time": "2020-10-26T20:52:52.752417Z"
    }
   },
   "outputs": [
    {
     "name": "stdout",
     "output_type": "stream",
     "text": [
      "Predicted Probability of Default: 37.0%\n"
     ]
    }
   ],
   "source": [
    "input_data_scaled = scaler.transform(input_data)\n",
    "\n",
    "pred = round(rf_rev.predict_proba(input_data_scaled)[0][1] * 100,0)\n",
    "\n",
    "print(f'Predicted Probability of Default: {pred}%')"
   ]
  },
  {
   "cell_type": "code",
   "execution_count": null,
   "metadata": {},
   "outputs": [],
   "source": []
  }
 ],
 "metadata": {
  "kernelspec": {
   "display_name": "Python 3",
   "language": "python",
   "name": "python3"
  },
  "language_info": {
   "codemirror_mode": {
    "name": "ipython",
    "version": 3
   },
   "file_extension": ".py",
   "mimetype": "text/x-python",
   "name": "python",
   "nbconvert_exporter": "python",
   "pygments_lexer": "ipython3",
   "version": "3.8.3"
  },
  "toc": {
   "base_numbering": 1,
   "nav_menu": {},
   "number_sections": true,
   "sideBar": true,
   "skip_h1_title": false,
   "title_cell": "Table of Contents",
   "title_sidebar": "Contents",
   "toc_cell": false,
   "toc_position": {},
   "toc_section_display": true,
   "toc_window_display": false
  }
 },
 "nbformat": 4,
 "nbformat_minor": 4
}
