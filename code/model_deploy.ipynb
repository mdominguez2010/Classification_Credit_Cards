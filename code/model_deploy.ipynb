{
 "cells": [
  {
   "cell_type": "markdown",
   "metadata": {},
   "source": [
    "# Import Dependencies"
   ]
  },
  {
   "cell_type": "code",
   "execution_count": 1,
   "metadata": {
    "ExecuteTime": {
     "end_time": "2020-11-17T00:36:32.804655Z",
     "start_time": "2020-11-17T00:36:32.232062Z"
    }
   },
   "outputs": [],
   "source": [
    "import pandas as pd\n",
    "import numpy as np\n",
    "import psycopg2 as pg\n",
    "import pickle\n",
    "\n",
    "import matplotlib.pyplot as plt\n",
    "import seaborn as sns\n",
    "sns.set(style='white', palette = 'Paired')\n",
    "#plt.style.use('ggplot')\n",
    "%matplotlib inline\n",
    "%config InlineBackend.figure_formats = ['svg']\n",
    "np.set_printoptions(suppress=True) # Suppress scientific notation where possible\n",
    "from ipywidgets import interactive, FloatSlider\n",
    "\n",
    "from sklearn.inspection import permutation_importance\n",
    "from sklearn import linear_model, svm, naive_bayes, neighbors, ensemble\n",
    "from sklearn.model_selection import KFold, train_test_split, GridSearchCV, RandomizedSearchCV\n",
    "from sklearn.neighbors import KNeighborsClassifier\n",
    "from sklearn import metrics\n",
    "from sklearn.preprocessing import StandardScaler, OneHotEncoder\n",
    "from sklearn.linear_model import LogisticRegression\n",
    "from sklearn.ensemble import RandomForestClassifier\n",
    "from sklearn.svm import SVC, LinearSVC\n",
    "from sklearn.metrics import classification_report, plot_confusion_matrix, confusion_matrix,\\\n",
    "roc_auc_score, roc_curve, precision_recall_curve, f1_score, fbeta_score, recall_score,\\\n",
    "precision_recall_fscore_support\n",
    "\n",
    "from sklearn.tree import DecisionTreeClassifier, DecisionTreeRegressor\n",
    "from sklearn.ensemble import (RandomForestClassifier, ExtraTreesClassifier, VotingClassifier, \n",
    "                              AdaBoostClassifier, BaggingRegressor)\n",
    "from sklearn.metrics import accuracy_score, make_scorer, log_loss\n",
    "\n",
    "from imblearn.under_sampling import RandomUnderSampler\n",
    "from imblearn.over_sampling import RandomOverSampler\n",
    "from collections import Counter\n",
    "from mlxtend.plotting import plot_decision_regions\n",
    "\n",
    "import xgboost as xgb"
   ]
  },
  {
   "cell_type": "markdown",
   "metadata": {},
   "source": [
    "# Import Data"
   ]
  },
  {
   "cell_type": "code",
   "execution_count": 3,
   "metadata": {
    "ExecuteTime": {
     "end_time": "2020-11-17T00:36:38.631636Z",
     "start_time": "2020-11-17T00:36:38.555106Z"
    }
   },
   "outputs": [],
   "source": [
    "df = pd.read_csv('/Users/dominguez/Documents/project3/Data/df.csv')"
   ]
  },
  {
   "cell_type": "markdown",
   "metadata": {},
   "source": [
    "## Important Features"
   ]
  },
  {
   "cell_type": "markdown",
   "metadata": {},
   "source": [
    "The following features will be used for the deployed model\n",
    "\n",
    "1. September History\n",
    "2. August History\n",
    "3. July History\n",
    "4. June History"
   ]
  },
  {
   "cell_type": "markdown",
   "metadata": {},
   "source": [
    "## Revised Model"
   ]
  },
  {
   "cell_type": "code",
   "execution_count": 5,
   "metadata": {
    "ExecuteTime": {
     "end_time": "2020-11-17T00:37:36.748899Z",
     "start_time": "2020-11-17T00:37:32.490258Z"
    }
   },
   "outputs": [
    {
     "name": "stdout",
     "output_type": "stream",
     "text": [
      "Random forest oversampling val score: 0.7701\n",
      "Random forest oversampling test score: 0.7725\n"
     ]
    }
   ],
   "source": [
    "# Establish features and target variables\n",
    "\n",
    "X_rev = df[['Sep_Hist','Aug_Hist','Jul_Hist', 'Jun_Hist']]\n",
    "\n",
    "y_rev = df['Default']\n",
    "\n",
    "# hold out 20% of the data for final testing\n",
    "X_rev, X_rev_test, y_rev, y_rev_test = train_test_split(X_rev, y_rev, test_size=.2, random_state=42)\n",
    "\n",
    "# Split train and validate sets\n",
    "X_rev_train, X_rev_val, y_rev_train, y_rev_val = train_test_split(X_rev, y_rev, test_size=.25, random_state=42)\n",
    "\n",
    "#this helps with the way kf will generate indices below\n",
    "X_rev, y_rev = np.array(X_rev), np.array(y_rev)\n",
    "\n",
    "# Scale features\n",
    "\n",
    "scaler = StandardScaler()\n",
    "X_rev_train_scaled = scaler.fit_transform(X_rev_train)\n",
    "X_rev_val_scaled = scaler.transform(X_rev_val)\n",
    "\n",
    "# Pickle the scaler to be used in the web app\n",
    "\n",
    "with open('/Users/dominguez/Documents/project3/web_app/scaler.pickle', 'wb') as to_write:\n",
    "    pickle.dump(scaler, to_write)\n",
    "    \n",
    "# Oversampling Cross Validation\n",
    "\n",
    "kf = KFold(n_splits=10, shuffle=True, random_state = 42)\n",
    "rf_rev_scores = []\n",
    "rus = RandomUnderSampler(random_state=42)\n",
    "\n",
    "for train_ind, val_ind in kf.split(X_rev,y_rev):\n",
    "\n",
    "    X_train, y_train = X_rev[train_ind], y_rev[train_ind]\n",
    "    X_val, y_val = X_rev[val_ind], y_rev[val_ind]\n",
    "    \n",
    "    # Undersample the data\n",
    "    X_train_under, y_train_under = rus.fit_sample(X_train, y_train)\n",
    "    \n",
    "    # Scale the features\n",
    "    scaler = StandardScaler()\n",
    "    X_train_under_scaled = scaler.fit_transform(X_train_under)\n",
    "    X_val_scaled = scaler.transform(X_val)\n",
    "    \n",
    "    # Random Forest\n",
    "    rf_rev = RandomForestClassifier(n_estimators=150, max_depth=10, min_samples_split=5,\n",
    "                                      min_samples_leaf=2, bootstrap=True, max_features='sqrt')\n",
    "    rf_rev.fit(X_train_under_scaled, y_train_under)\n",
    "    rf_rev_scores.append(rf_rev.score(X_val_scaled, y_val))\n",
    "        \n",
    "rf_val_rev_score = round(np.mean(rf_rev_scores),4)\n",
    "\n",
    "print(f'Random forest oversampling val score: {rf_val_rev_score}')\n",
    "\n",
    "# Pickle trained model to use in web app\n",
    "\n",
    "with open('/Users/dominguez/Documents/project3/web_app/rf_rev.pickle', 'wb') as to_write:\n",
    "    pickle.dump(rf_rev, to_write)\n",
    "    \n",
    "# Test\n",
    "\n",
    "X_rev_test_scaled = scaler.transform(X_rev_test)\n",
    "\n",
    "print(f'Random forest oversampling test score: {rf_rev.score(X_rev_test_scaled,y_rev_test)}')"
   ]
  },
  {
   "cell_type": "code",
   "execution_count": null,
   "metadata": {},
   "outputs": [],
   "source": []
  }
 ],
 "metadata": {
  "kernelspec": {
   "display_name": "Python 3",
   "language": "python",
   "name": "python3"
  },
  "language_info": {
   "codemirror_mode": {
    "name": "ipython",
    "version": 3
   },
   "file_extension": ".py",
   "mimetype": "text/x-python",
   "name": "python",
   "nbconvert_exporter": "python",
   "pygments_lexer": "ipython3",
   "version": "3.8.3-final"
  },
  "toc": {
   "base_numbering": 1,
   "nav_menu": {},
   "number_sections": true,
   "sideBar": true,
   "skip_h1_title": false,
   "title_cell": "Table of Contents",
   "title_sidebar": "Contents",
   "toc_cell": false,
   "toc_position": {},
   "toc_section_display": true,
   "toc_window_display": false
  }
 },
 "nbformat": 4,
 "nbformat_minor": 4
}